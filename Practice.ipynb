{
  "nbformat": 4,
  "nbformat_minor": 0,
  "metadata": {
    "colab": {
      "name": "Practice.ipynb",
      "provenance": [],
      "collapsed_sections": [],
      "authorship_tag": "ABX9TyPV6DXTR5LcV2hwaU4Pm4x5"
    },
    "kernelspec": {
      "name": "python3",
      "display_name": "Python 3"
    },
    "language_info": {
      "name": "python"
    }
  },
  "cells": [
    {
      "cell_type": "code",
      "metadata": {
        "id": "tAiE1TMfavFq"
      },
      "source": [
        "# Import our dependencies\n",
        "import pandas as pd\n",
        "import matplotlib as plt\n",
        "from sklearn.datasets import make_blobs\n",
        "import sklearn as skl\n",
        "import tensorflow as tf\n"
      ],
      "execution_count": 26,
      "outputs": []
    },
    {
      "cell_type": "code",
      "metadata": {
        "colab": {
          "base_uri": "https://localhost:8080/",
          "height": 275
        },
        "id": "YsnVQYXobe08",
        "outputId": "4683e02d-8d12-4261-f64a-15e7d348b24b"
      },
      "source": [
        "# Generate dummy dataset\n",
        "X, y = make_blobs(n_samples=1000, centers=2, n_features=2, random_state=78)\n",
        "\n",
        "# Creating a DataFrame with the dummy data\n",
        "df = pd.DataFrame(X, columns=[\"Feature 1\", \"Feature 2\"])\n",
        "df[\"Target\"] = y\n",
        "\n",
        "# Plotting the dummy data\n",
        "df.plot.scatter(x=\"Feature 1\", y=\"Feature 2\", c=\"Target\", colormap=\"winter\")"
      ],
      "execution_count": 27,
      "outputs": [
        {
          "output_type": "execute_result",
          "data": {
            "text/plain": [
              "<matplotlib.axes._subplots.AxesSubplot at 0x7f18911b30d0>"
            ]
          },
          "metadata": {
            "tags": []
          },
          "execution_count": 27
        },
        {
          "output_type": "display_data",
          "data": {
            "image/png": "[encoded data removed]",
            "text/plain": [
              "<Figure size 432x288 with 2 Axes>"
            ]
          },
          "metadata": {
            "tags": [],
            "needs_background": "light"
          }
        }
      ]
    },
    {
      "cell_type": "code",
      "metadata": {
        "id": "Ne7MBrjibDrn"
      },
      "source": [
        "# Use sklearn to split dataset\n",
        "from sklearn.model_selection import train_test_split\n",
        "X_train, X_test, y_train, y_test = train_test_split(X, y, random_state=78)"
      ],
      "execution_count": 28,
      "outputs": []
    },
    {
      "cell_type": "code",
      "metadata": {
        "id": "KkCMjHKNbMDl"
      },
      "source": [
        "# Create scaler instance\n",
        "X_scaler = skl.preprocessing.StandardScaler()\n",
        "\n",
        "# Fit the scaler\n",
        "X_scaler.fit(X_train)\n",
        "\n",
        "# Scale the data\n",
        "X_train_scaled = X_scaler.transform(X_train)\n",
        "X_test_scaled = X_scaler.transform(X_test)"
      ],
      "execution_count": 29,
      "outputs": []
    },
    {
      "cell_type": "code",
      "metadata": {
        "id": "CosMvsozbQOa"
      },
      "source": [
        "# Create the Keras Sequential model\n",
        "nn_model = tf.keras.models.Sequential()"
      ],
      "execution_count": 30,
      "outputs": []
    },
    {
      "cell_type": "code",
      "metadata": {
        "id": "hMX-TbvocNA-"
      },
      "source": [
        "# Add our first Dense layer, including the input layer\n",
        "nn_model.add(tf.keras.layers.Dense(units=1, activation=\"relu\", input_dim=2))"
      ],
      "execution_count": 31,
      "outputs": []
    },
    {
      "cell_type": "code",
      "metadata": {
        "id": "SD-PI9r5blkt"
      },
      "source": [
        "# Add the output layer that uses a probability activation function\n",
        "nn_model.add(tf.keras.layers.Dense(units=1, activation=\"sigmoid\"))"
      ],
      "execution_count": 32,
      "outputs": []
    },
    {
      "cell_type": "code",
      "metadata": {
        "colab": {
          "base_uri": "https://localhost:8080/"
        },
        "id": "h6z0xL56boeI",
        "outputId": "59246513-e758-4c13-8dae-81ad8f56e348"
      },
      "source": [
        "# Check the structure of the Sequential model\n",
        "nn_model.summary()"
      ],
      "execution_count": 33,
      "outputs": [
        {
          "output_type": "stream",
          "text": [
            "Model: \"sequential_4\"\n",
            "_________________________________________________________________\n",
            "Layer (type)                 Output Shape              Param #   \n",
            "=================================================================\n",
            "dense_4 (Dense)              (None, 1)                 3         \n",
            "_________________________________________________________________\n",
            "dense_5 (Dense)              (None, 1)                 2         \n",
            "=================================================================\n",
            "Total params: 5\n",
            "Trainable params: 5\n",
            "Non-trainable params: 0\n",
            "_________________________________________________________________\n"
          ],
          "name": "stdout"
        }
      ]
    },
    {
      "cell_type": "code",
      "metadata": {
        "id": "tXQ9VuhCeTua"
      },
      "source": [
        "# Compile the Sequential model together and customize metrics\n",
        "nn_model.compile(loss=\"binary_crossentropy\", optimizer=\"adam\", metrics=[\"accuracy\"])"
      ],
      "execution_count": 34,
      "outputs": []
    },
    {
      "cell_type": "code",
      "metadata": {
        "colab": {
          "base_uri": "https://localhost:8080/"
        },
        "id": "v7SW_uireWA_",
        "outputId": "56963dad-7119-49eb-edba-ef4587800786"
      },
      "source": [
        "# Fit the model to the training data\n",
        "fit_model = nn_model.fit(X_train_scaled, y_train, epochs=100)"
      ],
      "execution_count": 35,
      "outputs": [
        {
          "output_type": "stream",
          "text": [
            "Epoch 1/100\n",
            "24/24 [==============================] - 1s 1ms/step - loss: 0.8253 - accuracy: 0.0668\n",
            "Epoch 2/100\n",
            "24/24 [==============================] - 0s 1ms/step - loss: 0.8125 - accuracy: 0.0000e+00\n",
            "Epoch 3/100\n",
            "24/24 [==============================] - 0s 1ms/step - loss: 0.7972 - accuracy: 0.0000e+00\n",
            "Epoch 4/100\n",
            "24/24 [==============================] - 0s 1ms/step - loss: 0.7808 - accuracy: 0.0000e+00\n",
            "Epoch 5/100\n",
            "24/24 [==============================] - 0s 1ms/step - loss: 0.7727 - accuracy: 0.0000e+00\n",
            "Epoch 6/100\n",
            "24/24 [==============================] - 0s 1ms/step - loss: 0.7615 - accuracy: 7.1008e-04\n",
            "Epoch 7/100\n",
            "24/24 [==============================] - 0s 1ms/step - loss: 0.7540 - accuracy: 8.2598e-04\n",
            "Epoch 8/100\n",
            "24/24 [==============================] - 0s 1ms/step - loss: 0.7418 - accuracy: 0.0106\n",
            "Epoch 9/100\n",
            "24/24 [==============================] - 0s 1ms/step - loss: 0.7375 - accuracy: 0.0211\n",
            "Epoch 10/100\n",
            "24/24 [==============================] - 0s 1ms/step - loss: 0.7300 - accuracy: 0.0485\n",
            "Epoch 11/100\n",
            "24/24 [==============================] - 0s 1ms/step - loss: 0.7266 - accuracy: 0.0683\n",
            "Epoch 12/100\n",
            "24/24 [==============================] - 0s 1ms/step - loss: 0.7202 - accuracy: 0.1145\n",
            "Epoch 13/100\n",
            "24/24 [==============================] - 0s 1ms/step - loss: 0.7162 - accuracy: 0.1676\n",
            "Epoch 14/100\n",
            "24/24 [==============================] - 0s 1ms/step - loss: 0.7146 - accuracy: 0.1662\n",
            "Epoch 15/100\n",
            "24/24 [==============================] - 0s 1ms/step - loss: 0.7108 - accuracy: 0.2119\n",
            "Epoch 16/100\n",
            "24/24 [==============================] - 0s 2ms/step - loss: 0.7084 - accuracy: 0.2412\n",
            "Epoch 17/100\n",
            "24/24 [==============================] - 0s 1ms/step - loss: 0.7073 - accuracy: 0.2363\n",
            "Epoch 18/100\n",
            "24/24 [==============================] - 0s 1ms/step - loss: 0.7056 - accuracy: 0.2369\n",
            "Epoch 19/100\n",
            "24/24 [==============================] - 0s 1ms/step - loss: 0.7034 - accuracy: 0.2784\n",
            "Epoch 20/100\n",
            "24/24 [==============================] - 0s 1ms/step - loss: 0.7032 - accuracy: 0.2709\n",
            "Epoch 21/100\n",
            "24/24 [==============================] - 0s 1ms/step - loss: 0.7015 - accuracy: 0.2929\n",
            "Epoch 22/100\n",
            "24/24 [==============================] - 0s 1ms/step - loss: 0.7014 - accuracy: 0.2918\n",
            "Epoch 23/100\n",
            "24/24 [==============================] - 0s 1ms/step - loss: 0.6998 - accuracy: 0.3171\n",
            "Epoch 24/100\n",
            "24/24 [==============================] - 0s 1ms/step - loss: 0.6997 - accuracy: 0.3023\n",
            "Epoch 25/100\n",
            "24/24 [==============================] - 0s 1ms/step - loss: 0.6989 - accuracy: 0.3216\n",
            "Epoch 26/100\n",
            "24/24 [==============================] - 0s 2ms/step - loss: 0.6984 - accuracy: 0.3026\n",
            "Epoch 27/100\n",
            "24/24 [==============================] - 0s 1ms/step - loss: 0.6978 - accuracy: 0.3438\n",
            "Epoch 28/100\n",
            "24/24 [==============================] - 0s 1ms/step - loss: 0.6969 - accuracy: 0.3566\n",
            "Epoch 29/100\n",
            "24/24 [==============================] - 0s 1ms/step - loss: 0.6969 - accuracy: 0.3400\n",
            "Epoch 30/100\n",
            "24/24 [==============================] - 0s 1ms/step - loss: 0.6964 - accuracy: 0.3521\n",
            "Epoch 31/100\n",
            "24/24 [==============================] - 0s 2ms/step - loss: 0.6964 - accuracy: 0.3514\n",
            "Epoch 32/100\n",
            "24/24 [==============================] - 0s 1ms/step - loss: 0.6962 - accuracy: 0.3461\n",
            "Epoch 33/100\n",
            "24/24 [==============================] - 0s 1ms/step - loss: 0.6964 - accuracy: 0.3443\n",
            "Epoch 34/100\n",
            "24/24 [==============================] - 0s 1ms/step - loss: 0.6952 - accuracy: 0.3448\n",
            "Epoch 35/100\n",
            "24/24 [==============================] - 0s 1ms/step - loss: 0.6953 - accuracy: 0.4197\n",
            "Epoch 36/100\n",
            "24/24 [==============================] - 0s 1ms/step - loss: 0.6954 - accuracy: 0.5050\n",
            "Epoch 37/100\n",
            "24/24 [==============================] - 0s 1ms/step - loss: 0.6953 - accuracy: 0.5070\n",
            "Epoch 38/100\n",
            "24/24 [==============================] - 0s 1ms/step - loss: 0.6949 - accuracy: 0.5052\n",
            "Epoch 39/100\n",
            "24/24 [==============================] - 0s 2ms/step - loss: 0.6949 - accuracy: 0.5035\n",
            "Epoch 40/100\n",
            "24/24 [==============================] - 0s 1ms/step - loss: 0.6950 - accuracy: 0.4805\n",
            "Epoch 41/100\n",
            "24/24 [==============================] - 0s 1ms/step - loss: 0.6949 - accuracy: 0.4793\n",
            "Epoch 42/100\n",
            "24/24 [==============================] - 0s 1ms/step - loss: 0.6944 - accuracy: 0.5263\n",
            "Epoch 43/100\n",
            "24/24 [==============================] - 0s 1ms/step - loss: 0.6941 - accuracy: 0.5068\n",
            "Epoch 44/100\n",
            "24/24 [==============================] - 0s 1ms/step - loss: 0.6939 - accuracy: 0.5356\n",
            "Epoch 45/100\n",
            "24/24 [==============================] - 0s 1ms/step - loss: 0.6947 - accuracy: 0.4932\n",
            "Epoch 46/100\n",
            "24/24 [==============================] - 0s 1ms/step - loss: 0.6943 - accuracy: 0.4990\n",
            "Epoch 47/100\n",
            "24/24 [==============================] - 0s 1ms/step - loss: 0.6941 - accuracy: 0.5002\n",
            "Epoch 48/100\n",
            "24/24 [==============================] - 0s 1ms/step - loss: 0.6941 - accuracy: 0.5030\n",
            "Epoch 49/100\n",
            "24/24 [==============================] - 0s 1ms/step - loss: 0.6937 - accuracy: 0.5241\n",
            "Epoch 50/100\n",
            "24/24 [==============================] - 0s 1ms/step - loss: 0.6935 - accuracy: 0.5236\n",
            "Epoch 51/100\n",
            "24/24 [==============================] - 0s 1ms/step - loss: 0.6936 - accuracy: 0.5155\n",
            "Epoch 52/100\n",
            "24/24 [==============================] - 0s 1ms/step - loss: 0.6941 - accuracy: 0.4919\n",
            "Epoch 53/100\n",
            "24/24 [==============================] - 0s 1ms/step - loss: 0.6939 - accuracy: 0.5115\n",
            "Epoch 54/100\n",
            "24/24 [==============================] - 0s 1ms/step - loss: 0.6941 - accuracy: 0.4836\n",
            "Epoch 55/100\n",
            "24/24 [==============================] - 0s 1ms/step - loss: 0.6945 - accuracy: 0.4698\n",
            "Epoch 56/100\n",
            "24/24 [==============================] - 0s 1ms/step - loss: 0.6941 - accuracy: 0.4848\n",
            "Epoch 57/100\n",
            "24/24 [==============================] - 0s 2ms/step - loss: 0.6933 - accuracy: 0.5281\n",
            "Epoch 58/100\n",
            "24/24 [==============================] - 0s 1ms/step - loss: 0.6933 - accuracy: 0.5155\n",
            "Epoch 59/100\n",
            "24/24 [==============================] - 0s 1ms/step - loss: 0.6934 - accuracy: 0.5172\n",
            "Epoch 60/100\n",
            "24/24 [==============================] - 0s 1ms/step - loss: 0.6938 - accuracy: 0.4951\n",
            "Epoch 61/100\n",
            "24/24 [==============================] - 0s 1ms/step - loss: 0.6937 - accuracy: 0.4995\n",
            "Epoch 62/100\n",
            "24/24 [==============================] - 0s 1ms/step - loss: 0.6938 - accuracy: 0.4874\n",
            "Epoch 63/100\n",
            "24/24 [==============================] - 0s 1ms/step - loss: 0.6932 - accuracy: 0.5200\n",
            "Epoch 64/100\n",
            "24/24 [==============================] - 0s 1ms/step - loss: 0.6938 - accuracy: 0.4971\n",
            "Epoch 65/100\n",
            "24/24 [==============================] - 0s 1ms/step - loss: 0.6936 - accuracy: 0.4992\n",
            "Epoch 66/100\n",
            "24/24 [==============================] - 0s 1ms/step - loss: 0.6937 - accuracy: 0.4980\n",
            "Epoch 67/100\n",
            "24/24 [==============================] - 0s 1ms/step - loss: 0.6931 - accuracy: 0.5203\n",
            "Epoch 68/100\n",
            "24/24 [==============================] - 0s 1ms/step - loss: 0.6934 - accuracy: 0.5092\n",
            "Epoch 69/100\n",
            "24/24 [==============================] - 0s 1ms/step - loss: 0.6936 - accuracy: 0.5002\n",
            "Epoch 70/100\n",
            "24/24 [==============================] - 0s 1ms/step - loss: 0.6929 - accuracy: 0.5312\n",
            "Epoch 71/100\n",
            "24/24 [==============================] - 0s 1ms/step - loss: 0.6935 - accuracy: 0.4973\n",
            "Epoch 72/100\n",
            "24/24 [==============================] - 0s 1ms/step - loss: 0.6930 - accuracy: 0.5189\n",
            "Epoch 73/100\n",
            "24/24 [==============================] - 0s 1ms/step - loss: 0.6933 - accuracy: 0.5049\n",
            "Epoch 74/100\n",
            "24/24 [==============================] - 0s 1ms/step - loss: 0.6937 - accuracy: 0.4917\n",
            "Epoch 75/100\n",
            "24/24 [==============================] - 0s 1ms/step - loss: 0.6933 - accuracy: 0.5111\n",
            "Epoch 76/100\n",
            "24/24 [==============================] - 0s 1ms/step - loss: 0.6933 - accuracy: 0.5076\n",
            "Epoch 77/100\n",
            "24/24 [==============================] - 0s 1ms/step - loss: 0.6931 - accuracy: 0.5136\n",
            "Epoch 78/100\n",
            "24/24 [==============================] - 0s 1ms/step - loss: 0.6941 - accuracy: 0.4652\n",
            "Epoch 79/100\n",
            "24/24 [==============================] - 0s 1ms/step - loss: 0.6929 - accuracy: 0.5245\n",
            "Epoch 80/100\n",
            "24/24 [==============================] - 0s 1ms/step - loss: 0.6934 - accuracy: 0.4996\n",
            "Epoch 81/100\n",
            "24/24 [==============================] - 0s 2ms/step - loss: 0.6935 - accuracy: 0.4956\n",
            "Epoch 82/100\n",
            "24/24 [==============================] - 0s 1ms/step - loss: 0.6932 - accuracy: 0.5064\n",
            "Epoch 83/100\n",
            "24/24 [==============================] - 0s 1ms/step - loss: 0.6927 - accuracy: 0.5315\n",
            "Epoch 84/100\n",
            "24/24 [==============================] - 0s 1ms/step - loss: 0.6934 - accuracy: 0.4963\n",
            "Epoch 85/100\n",
            "24/24 [==============================] - 0s 1ms/step - loss: 0.6928 - accuracy: 0.5263\n",
            "Epoch 86/100\n",
            "24/24 [==============================] - 0s 1ms/step - loss: 0.6926 - accuracy: 0.5360\n",
            "Epoch 87/100\n",
            "24/24 [==============================] - 0s 1ms/step - loss: 0.6930 - accuracy: 0.5139\n",
            "Epoch 88/100\n",
            "24/24 [==============================] - 0s 1ms/step - loss: 0.6938 - accuracy: 0.4787\n",
            "Epoch 89/100\n",
            "24/24 [==============================] - 0s 1ms/step - loss: 0.6935 - accuracy: 0.4878\n",
            "Epoch 90/100\n",
            "24/24 [==============================] - 0s 1ms/step - loss: 0.6929 - accuracy: 0.5192\n",
            "Epoch 91/100\n",
            "24/24 [==============================] - 0s 1ms/step - loss: 0.6929 - accuracy: 0.5211\n",
            "Epoch 92/100\n",
            "24/24 [==============================] - 0s 1ms/step - loss: 0.6931 - accuracy: 0.5114\n",
            "Epoch 93/100\n",
            "24/24 [==============================] - 0s 2ms/step - loss: 0.6929 - accuracy: 0.5204\n",
            "Epoch 94/100\n",
            "24/24 [==============================] - 0s 1ms/step - loss: 0.6929 - accuracy: 0.5192\n",
            "Epoch 95/100\n",
            "24/24 [==============================] - 0s 1ms/step - loss: 0.6932 - accuracy: 0.5047\n",
            "Epoch 96/100\n",
            "24/24 [==============================] - 0s 1ms/step - loss: 0.6932 - accuracy: 0.5007\n",
            "Epoch 97/100\n",
            "24/24 [==============================] - 0s 1ms/step - loss: 0.6931 - accuracy: 0.5085\n",
            "Epoch 98/100\n",
            "24/24 [==============================] - 0s 1ms/step - loss: 0.6927 - accuracy: 0.5252\n",
            "Epoch 99/100\n",
            "24/24 [==============================] - 0s 1ms/step - loss: 0.6934 - accuracy: 0.4953\n",
            "Epoch 100/100\n",
            "24/24 [==============================] - 0s 1ms/step - loss: 0.6931 - accuracy: 0.5059\n"
          ],
          "name": "stdout"
        }
      ]
    },
    {
      "cell_type": "code",
      "metadata": {
        "colab": {
          "base_uri": "https://localhost:8080/",
          "height": 282
        },
        "id": "fo52R3EavZwz",
        "outputId": "9a467124-9a52-4aa4-a61a-313c8e1ff62b"
      },
      "source": [
        "# Create a DataFrame containing training history\n",
        "history_df = pd.DataFrame(fit_model.history, index=range(1,len(fit_model.history[\"loss\"])+1))\n",
        "\n",
        "# Plot the loss\n",
        "history_df.plot(y=\"loss\")"
      ],
      "execution_count": 36,
      "outputs": [
        {
          "output_type": "execute_result",
          "data": {
            "text/plain": [
              "<matplotlib.axes._subplots.AxesSubplot at 0x7f1891208c50>"
            ]
          },
          "metadata": {
            "tags": []
          },
          "execution_count": 36
        },
        {
          "output_type": "display_data",
          "data": {
            "image/png": "[encoded data removed]",
            "text/plain": [
              "<Figure size 432x288 with 1 Axes>"
            ]
          },
          "metadata": {
            "tags": [],
            "needs_background": "light"
          }
        }
      ]
    },
    {
      "cell_type": "code",
      "metadata": {
        "colab": {
          "base_uri": "https://localhost:8080/",
          "height": 282
        },
        "id": "SGkZb44yvZ9h",
        "outputId": "09dae95b-1c6d-4a72-c3c1-cbc39eb20e11"
      },
      "source": [
        "# Plot the accuracy\n",
        "history_df.plot(y=\"accuracy\")"
      ],
      "execution_count": 37,
      "outputs": [
        {
          "output_type": "execute_result",
          "data": {
            "text/plain": [
              "<matplotlib.axes._subplots.AxesSubplot at 0x7f188e8cfa10>"
            ]
          },
          "metadata": {
            "tags": []
          },
          "execution_count": 37
        },
        {
          "output_type": "display_data",
          "data": {
            "image/png": "[encoded data removed]",
            "text/plain": [
              "<Figure size 432x288 with 1 Axes>"
            ]
          },
          "metadata": {
            "tags": [],
            "needs_background": "light"
          }
        }
      ]
    },
    {
      "cell_type": "code",
      "metadata": {
        "colab": {
          "base_uri": "https://localhost:8080/"
        },
        "id": "BsnxYDIiwajh",
        "outputId": "ce4cf28c-153a-4a29-9a3b-c16e08af679e"
      },
      "source": [
        "# Evaluate the model using the test data\n",
        "model_loss, model_accuracy = nn_model.evaluate(X_test_scaled,y_test,verbose=2)\n",
        "print(f\"Loss: {model_loss}, Accuracy: {model_accuracy}\")"
      ],
      "execution_count": 40,
      "outputs": [
        {
          "output_type": "stream",
          "text": [
            "8/8 - 0s - loss: 0.6937 - accuracy: 0.4800\n",
            "Loss: 0.6937288045883179, Accuracy: 0.47999998927116394\n"
          ],
          "name": "stdout"
        }
      ]
    },
    {
      "cell_type": "code",
      "metadata": {
        "colab": {
          "base_uri": "https://localhost:8080/"
        },
        "id": "gg2drUS7wq_o",
        "outputId": "c78768ea-9dd3-4b3d-f2f4-ceba2fae9b3e"
      },
      "source": [
        "# Predict the classification of a new set of blob data\n",
        "new_X, new_Y = make_blobs(n_samples=10, centers=2, n_features=2, random_state=78)\n",
        "new_X_scaled = X_scaler.transform(new_X)\n",
        "(nn_model.predict(new_X_scaled) > 0.5).astype(\"int32\")"
      ],
      "execution_count": 41,
      "outputs": [
        {
          "output_type": "execute_result",
          "data": {
            "text/plain": [
              "array([[0],\n",
              "       [0],\n",
              "       [0],\n",
              "       [0],\n",
              "       [0],\n",
              "       [0],\n",
              "       [0],\n",
              "       [0],\n",
              "       [0],\n",
              "       [0]], dtype=int32)"
            ]
          },
          "metadata": {
            "tags": []
          },
          "execution_count": 41
        }
      ]
    },
    {
      "cell_type": "code",
      "metadata": {
        "colab": {
          "base_uri": "https://localhost:8080/",
          "height": 275
        },
        "id": "YKdFWCwgxMZd",
        "outputId": "4d8debab-0594-4da8-cb65-f41499effdcf"
      },
      "source": [
        "from sklearn.datasets import make_moons\n",
        "\n",
        "# Creating dummy nonlinear data\n",
        "X_moons, y_moons = make_moons(n_samples=1000, noise=0.08, random_state=78)\n",
        "\n",
        "# Transforming y_moons to a vertical vector\n",
        "y_moons = y_moons.reshape(-1, 1)\n",
        "\n",
        "# Creating a DataFrame to plot the nonlinear dummy data\n",
        "df_moons = pd.DataFrame(X_moons, columns=[\"Feature 1\", \"Feature 2\"])\n",
        "df_moons[\"Target\"] = y_moons\n",
        "\n",
        "# Plot the nonlinear dummy data\n",
        "df_moons.plot.scatter(x=\"Feature 1\",y=\"Feature 2\", c=\"Target\",colormap=\"winter\")"
      ],
      "execution_count": 42,
      "outputs": [
        {
          "output_type": "execute_result",
          "data": {
            "text/plain": [
              "<matplotlib.axes._subplots.AxesSubplot at 0x7f1894ca3e50>"
            ]
          },
          "metadata": {
            "tags": []
          },
          "execution_count": 42
        },
        {
          "output_type": "display_data",
          "data": {
            "image/png": "[encoded data removed]",
            "text/plain": [
              "<Figure size 432x288 with 2 Axes>"
            ]
          },
          "metadata": {
            "tags": [],
            "needs_background": "light"
          }
        }
      ]
    },
    {
      "cell_type": "code",
      "metadata": {
        "id": "xBXsaHjExXO_"
      },
      "source": [
        "# Create training and testing sets\n",
        "X_moon_train, X_moon_test, y_moon_train, y_moon_test = train_test_split(\n",
        "    X_moons, y_moons, random_state=78\n",
        ")\n",
        "\n",
        "# Create the scaler instance\n",
        "X_moon_scaler = skl.preprocessing.StandardScaler()\n",
        "\n",
        "# Fit the scaler\n",
        "X_moon_scaler.fit(X_moon_train)\n",
        "\n",
        "# Scale the data\n",
        "X_moon_train_scaled = X_moon_scaler.transform(X_moon_train)\n",
        "X_moon_test_scaled = X_moon_scaler.transform(X_moon_test)"
      ],
      "execution_count": 44,
      "outputs": []
    },
    {
      "cell_type": "code",
      "metadata": {
        "colab": {
          "base_uri": "https://localhost:8080/"
        },
        "id": "4WOf1F73xXU5",
        "outputId": "3962859b-b0ac-4dba-b54b-76b014a26dec"
      },
      "source": [
        "# Training the model with the nonlinear data\n",
        "model_moon = nn_model.fit(X_moon_train_scaled, y_moon_train, epochs=100, shuffle=True)"
      ],
      "execution_count": 46,
      "outputs": [
        {
          "output_type": "stream",
          "text": [
            "Epoch 1/100\n",
            "24/24 [==============================] - 0s 2ms/step - loss: 0.2956 - accuracy: 0.8933\n",
            "Epoch 2/100\n",
            "24/24 [==============================] - 0s 2ms/step - loss: 0.2948 - accuracy: 0.8920\n",
            "Epoch 3/100\n",
            "24/24 [==============================] - 0s 2ms/step - loss: 0.2942 - accuracy: 0.8920\n",
            "Epoch 4/100\n",
            "24/24 [==============================] - 0s 2ms/step - loss: 0.2936 - accuracy: 0.8920\n",
            "Epoch 5/100\n",
            "24/24 [==============================] - 0s 2ms/step - loss: 0.2930 - accuracy: 0.8933\n",
            "Epoch 6/100\n",
            "24/24 [==============================] - 0s 2ms/step - loss: 0.2923 - accuracy: 0.8933\n",
            "Epoch 7/100\n",
            "24/24 [==============================] - 0s 2ms/step - loss: 0.2918 - accuracy: 0.8933\n",
            "Epoch 8/100\n",
            "24/24 [==============================] - 0s 2ms/step - loss: 0.2912 - accuracy: 0.8933\n",
            "Epoch 9/100\n",
            "24/24 [==============================] - 0s 2ms/step - loss: 0.2907 - accuracy: 0.8933\n",
            "Epoch 10/100\n",
            "24/24 [==============================] - 0s 2ms/step - loss: 0.2901 - accuracy: 0.8933\n",
            "Epoch 11/100\n",
            "24/24 [==============================] - 0s 2ms/step - loss: 0.2896 - accuracy: 0.8933\n",
            "Epoch 12/100\n",
            "24/24 [==============================] - 0s 2ms/step - loss: 0.2891 - accuracy: 0.8933\n",
            "Epoch 13/100\n",
            "24/24 [==============================] - 0s 2ms/step - loss: 0.2886 - accuracy: 0.8933\n",
            "Epoch 14/100\n",
            "24/24 [==============================] - 0s 2ms/step - loss: 0.2881 - accuracy: 0.8933\n",
            "Epoch 15/100\n",
            "24/24 [==============================] - 0s 2ms/step - loss: 0.2875 - accuracy: 0.8933\n",
            "Epoch 16/100\n",
            "24/24 [==============================] - 0s 2ms/step - loss: 0.2871 - accuracy: 0.8933\n",
            "Epoch 17/100\n",
            "24/24 [==============================] - 0s 2ms/step - loss: 0.2866 - accuracy: 0.8933\n",
            "Epoch 18/100\n",
            "24/24 [==============================] - 0s 2ms/step - loss: 0.2861 - accuracy: 0.8933\n",
            "Epoch 19/100\n",
            "24/24 [==============================] - 0s 2ms/step - loss: 0.2856 - accuracy: 0.8933\n",
            "Epoch 20/100\n",
            "24/24 [==============================] - 0s 2ms/step - loss: 0.2852 - accuracy: 0.8933\n",
            "Epoch 21/100\n",
            "24/24 [==============================] - 0s 2ms/step - loss: 0.2848 - accuracy: 0.8933\n",
            "Epoch 22/100\n",
            "24/24 [==============================] - 0s 2ms/step - loss: 0.2844 - accuracy: 0.8933\n",
            "Epoch 23/100\n",
            "24/24 [==============================] - 0s 2ms/step - loss: 0.2840 - accuracy: 0.8933\n",
            "Epoch 24/100\n",
            "24/24 [==============================] - 0s 2ms/step - loss: 0.2836 - accuracy: 0.8933\n",
            "Epoch 25/100\n",
            "24/24 [==============================] - 0s 2ms/step - loss: 0.2832 - accuracy: 0.8933\n",
            "Epoch 26/100\n",
            "24/24 [==============================] - 0s 2ms/step - loss: 0.2827 - accuracy: 0.8933\n",
            "Epoch 27/100\n",
            "24/24 [==============================] - 0s 2ms/step - loss: 0.2824 - accuracy: 0.8933\n",
            "Epoch 28/100\n",
            "24/24 [==============================] - 0s 2ms/step - loss: 0.2819 - accuracy: 0.8933\n",
            "Epoch 29/100\n",
            "24/24 [==============================] - 0s 2ms/step - loss: 0.2816 - accuracy: 0.8933\n",
            "Epoch 30/100\n",
            "24/24 [==============================] - 0s 1ms/step - loss: 0.2813 - accuracy: 0.8933\n",
            "Epoch 31/100\n",
            "24/24 [==============================] - 0s 2ms/step - loss: 0.2808 - accuracy: 0.8933\n",
            "Epoch 32/100\n",
            "24/24 [==============================] - 0s 2ms/step - loss: 0.2806 - accuracy: 0.8933\n",
            "Epoch 33/100\n",
            "24/24 [==============================] - 0s 2ms/step - loss: 0.2802 - accuracy: 0.8933\n",
            "Epoch 34/100\n",
            "24/24 [==============================] - 0s 2ms/step - loss: 0.2798 - accuracy: 0.8933\n",
            "Epoch 35/100\n",
            "24/24 [==============================] - 0s 2ms/step - loss: 0.2796 - accuracy: 0.8933\n",
            "Epoch 36/100\n",
            "24/24 [==============================] - 0s 2ms/step - loss: 0.2792 - accuracy: 0.8933\n",
            "Epoch 37/100\n",
            "24/24 [==============================] - 0s 2ms/step - loss: 0.2789 - accuracy: 0.8933\n",
            "Epoch 38/100\n",
            "24/24 [==============================] - 0s 2ms/step - loss: 0.2786 - accuracy: 0.8933\n",
            "Epoch 39/100\n",
            "24/24 [==============================] - 0s 2ms/step - loss: 0.2783 - accuracy: 0.8933\n",
            "Epoch 40/100\n",
            "24/24 [==============================] - 0s 2ms/step - loss: 0.2779 - accuracy: 0.8933\n",
            "Epoch 41/100\n",
            "24/24 [==============================] - 0s 2ms/step - loss: 0.2777 - accuracy: 0.8933\n",
            "Epoch 42/100\n",
            "24/24 [==============================] - 0s 2ms/step - loss: 0.2774 - accuracy: 0.8933\n",
            "Epoch 43/100\n",
            "24/24 [==============================] - 0s 2ms/step - loss: 0.2771 - accuracy: 0.8933\n",
            "Epoch 44/100\n",
            "24/24 [==============================] - 0s 2ms/step - loss: 0.2769 - accuracy: 0.8933\n",
            "Epoch 45/100\n",
            "24/24 [==============================] - 0s 2ms/step - loss: 0.2766 - accuracy: 0.8933\n",
            "Epoch 46/100\n",
            "24/24 [==============================] - 0s 2ms/step - loss: 0.2764 - accuracy: 0.8933\n",
            "Epoch 47/100\n",
            "24/24 [==============================] - 0s 2ms/step - loss: 0.2761 - accuracy: 0.8933\n",
            "Epoch 48/100\n",
            "24/24 [==============================] - 0s 2ms/step - loss: 0.2759 - accuracy: 0.8933\n",
            "Epoch 49/100\n",
            "24/24 [==============================] - 0s 2ms/step - loss: 0.2756 - accuracy: 0.8933\n",
            "Epoch 50/100\n",
            "24/24 [==============================] - 0s 2ms/step - loss: 0.2753 - accuracy: 0.8933\n",
            "Epoch 51/100\n",
            "24/24 [==============================] - 0s 2ms/step - loss: 0.2752 - accuracy: 0.8933\n",
            "Epoch 52/100\n",
            "24/24 [==============================] - 0s 2ms/step - loss: 0.2749 - accuracy: 0.8933\n",
            "Epoch 53/100\n",
            "24/24 [==============================] - 0s 2ms/step - loss: 0.2747 - accuracy: 0.8933\n",
            "Epoch 54/100\n",
            "24/24 [==============================] - 0s 2ms/step - loss: 0.2744 - accuracy: 0.8933\n",
            "Epoch 55/100\n",
            "24/24 [==============================] - 0s 2ms/step - loss: 0.2743 - accuracy: 0.8933\n",
            "Epoch 56/100\n",
            "24/24 [==============================] - 0s 2ms/step - loss: 0.2741 - accuracy: 0.8933\n",
            "Epoch 57/100\n",
            "24/24 [==============================] - 0s 2ms/step - loss: 0.2739 - accuracy: 0.8933\n",
            "Epoch 58/100\n",
            "24/24 [==============================] - 0s 2ms/step - loss: 0.2737 - accuracy: 0.8933\n",
            "Epoch 59/100\n",
            "24/24 [==============================] - 0s 3ms/step - loss: 0.2735 - accuracy: 0.8933\n",
            "Epoch 60/100\n",
            "24/24 [==============================] - 0s 2ms/step - loss: 0.2733 - accuracy: 0.8933\n",
            "Epoch 61/100\n",
            "24/24 [==============================] - 0s 2ms/step - loss: 0.2732 - accuracy: 0.8933\n",
            "Epoch 62/100\n",
            "24/24 [==============================] - 0s 2ms/step - loss: 0.2730 - accuracy: 0.8933\n",
            "Epoch 63/100\n",
            "24/24 [==============================] - 0s 2ms/step - loss: 0.2727 - accuracy: 0.8933\n",
            "Epoch 64/100\n",
            "24/24 [==============================] - 0s 2ms/step - loss: 0.2726 - accuracy: 0.8933\n",
            "Epoch 65/100\n",
            "24/24 [==============================] - 0s 2ms/step - loss: 0.2724 - accuracy: 0.8933\n",
            "Epoch 66/100\n",
            "24/24 [==============================] - 0s 2ms/step - loss: 0.2723 - accuracy: 0.8933\n",
            "Epoch 67/100\n",
            "24/24 [==============================] - 0s 2ms/step - loss: 0.2721 - accuracy: 0.8933\n",
            "Epoch 68/100\n",
            "24/24 [==============================] - 0s 2ms/step - loss: 0.2719 - accuracy: 0.8933\n",
            "Epoch 69/100\n",
            "24/24 [==============================] - 0s 2ms/step - loss: 0.2717 - accuracy: 0.8933\n",
            "Epoch 70/100\n",
            "24/24 [==============================] - 0s 2ms/step - loss: 0.2716 - accuracy: 0.8933\n",
            "Epoch 71/100\n",
            "24/24 [==============================] - 0s 2ms/step - loss: 0.2714 - accuracy: 0.8933\n",
            "Epoch 72/100\n",
            "24/24 [==============================] - 0s 2ms/step - loss: 0.2713 - accuracy: 0.8933\n",
            "Epoch 73/100\n",
            "24/24 [==============================] - 0s 2ms/step - loss: 0.2711 - accuracy: 0.8933\n",
            "Epoch 74/100\n",
            "24/24 [==============================] - 0s 2ms/step - loss: 0.2710 - accuracy: 0.8933\n",
            "Epoch 75/100\n",
            "24/24 [==============================] - 0s 2ms/step - loss: 0.2712 - accuracy: 0.8933\n",
            "Epoch 76/100\n",
            "24/24 [==============================] - 0s 2ms/step - loss: 0.2706 - accuracy: 0.8933\n",
            "Epoch 77/100\n",
            "24/24 [==============================] - 0s 2ms/step - loss: 0.2705 - accuracy: 0.8933\n",
            "Epoch 78/100\n",
            "24/24 [==============================] - 0s 2ms/step - loss: 0.2704 - accuracy: 0.8933\n",
            "Epoch 79/100\n",
            "24/24 [==============================] - 0s 2ms/step - loss: 0.2702 - accuracy: 0.8933\n",
            "Epoch 80/100\n",
            "24/24 [==============================] - 0s 2ms/step - loss: 0.2701 - accuracy: 0.8947\n",
            "Epoch 81/100\n",
            "24/24 [==============================] - 0s 2ms/step - loss: 0.2700 - accuracy: 0.8947\n",
            "Epoch 82/100\n",
            "24/24 [==============================] - 0s 2ms/step - loss: 0.2700 - accuracy: 0.8960\n",
            "Epoch 83/100\n",
            "24/24 [==============================] - 0s 2ms/step - loss: 0.2697 - accuracy: 0.8947\n",
            "Epoch 84/100\n",
            "24/24 [==============================] - 0s 2ms/step - loss: 0.2697 - accuracy: 0.8933\n",
            "Epoch 85/100\n",
            "24/24 [==============================] - 0s 2ms/step - loss: 0.2694 - accuracy: 0.8933\n",
            "Epoch 86/100\n",
            "24/24 [==============================] - 0s 2ms/step - loss: 0.2693 - accuracy: 0.8947\n",
            "Epoch 87/100\n",
            "24/24 [==============================] - 0s 2ms/step - loss: 0.2692 - accuracy: 0.8947\n",
            "Epoch 88/100\n",
            "24/24 [==============================] - 0s 2ms/step - loss: 0.2690 - accuracy: 0.8947\n",
            "Epoch 89/100\n",
            "24/24 [==============================] - 0s 2ms/step - loss: 0.2690 - accuracy: 0.8947\n",
            "Epoch 90/100\n",
            "24/24 [==============================] - 0s 2ms/step - loss: 0.2688 - accuracy: 0.8947\n",
            "Epoch 91/100\n",
            "24/24 [==============================] - 0s 3ms/step - loss: 0.2687 - accuracy: 0.8947\n",
            "Epoch 92/100\n",
            "24/24 [==============================] - 0s 2ms/step - loss: 0.2685 - accuracy: 0.8947\n",
            "Epoch 93/100\n",
            "24/24 [==============================] - 0s 2ms/step - loss: 0.2685 - accuracy: 0.8947\n",
            "Epoch 94/100\n",
            "24/24 [==============================] - 0s 2ms/step - loss: 0.2683 - accuracy: 0.8947\n",
            "Epoch 95/100\n",
            "24/24 [==============================] - 0s 2ms/step - loss: 0.2682 - accuracy: 0.8960\n",
            "Epoch 96/100\n",
            "24/24 [==============================] - 0s 2ms/step - loss: 0.2681 - accuracy: 0.8960\n",
            "Epoch 97/100\n",
            "24/24 [==============================] - 0s 2ms/step - loss: 0.2679 - accuracy: 0.8960\n",
            "Epoch 98/100\n",
            "24/24 [==============================] - 0s 2ms/step - loss: 0.2679 - accuracy: 0.8960\n",
            "Epoch 99/100\n",
            "24/24 [==============================] - 0s 2ms/step - loss: 0.2677 - accuracy: 0.8960\n",
            "Epoch 100/100\n",
            "24/24 [==============================] - 0s 2ms/step - loss: 0.2674 - accuracy: 0.8960\n"
          ],
          "name": "stdout"
        }
      ]
    },
    {
      "cell_type": "code",
      "metadata": {
        "colab": {
          "base_uri": "https://localhost:8080/",
          "height": 282
        },
        "id": "AiWiEYMVxXcl",
        "outputId": "9a8b3c2a-669c-4fa3-d3dd-0da10d3b8ae3"
      },
      "source": [
        "# Create a DataFrame containing training history\n",
        "history_df = pd.DataFrame(model_moon.history, index=range(1,len(model_moon.history[\"loss\"])+1))\n",
        "\n",
        "# Plot the loss\n",
        "history_df.plot(y=\"loss\")"
      ],
      "execution_count": 47,
      "outputs": [
        {
          "output_type": "execute_result",
          "data": {
            "text/plain": [
              "<matplotlib.axes._subplots.AxesSubplot at 0x7f188cd94110>"
            ]
          },
          "metadata": {
            "tags": []
          },
          "execution_count": 47
        },
        {
          "output_type": "display_data",
          "data": {
            "image/png": "[encoded data removed]",
            "text/plain": [
              "<Figure size 432x288 with 1 Axes>"
            ]
          },
          "metadata": {
            "tags": [],
            "needs_background": "light"
          }
        }
      ]
    },
    {
      "cell_type": "code",
      "metadata": {
        "colab": {
          "base_uri": "https://localhost:8080/",
          "height": 282
        },
        "id": "i-FtaE4bxXiF",
        "outputId": "7bc5fbf1-afb6-44d2-e7ad-ac92a702ad89"
      },
      "source": [
        "# Plot the loss\n",
        "history_df.plot(y=\"accuracy\")"
      ],
      "execution_count": 48,
      "outputs": [
        {
          "output_type": "execute_result",
          "data": {
            "text/plain": [
              "<matplotlib.axes._subplots.AxesSubplot at 0x7f188ce60390>"
            ]
          },
          "metadata": {
            "tags": []
          },
          "execution_count": 48
        },
        {
          "output_type": "display_data",
          "data": {
            "image/png": "[encoded data removed]",
            "text/plain": [
              "<Figure size 432x288 with 1 Axes>"
            ]
          },
          "metadata": {
            "tags": [],
            "needs_background": "light"
          }
        }
      ]
    },
    {
      "cell_type": "code",
      "metadata": {
        "id": "m9S8ViavxXq2"
      },
      "source": [
        "# Generate our new Sequential model\n",
        "new_model = tf.keras.models.Sequential()"
      ],
      "execution_count": 50,
      "outputs": []
    },
    {
      "cell_type": "code",
      "metadata": {
        "id": "5EbobFoL25FT"
      },
      "source": [
        "# Add the input and hidden layer\n",
        "number_inputs = 2\n",
        "number_hidden_nodes = 6\n",
        "\n",
        "new_model.add(tf.keras.layers.Dense(units=number_hidden_nodes, activation=\"relu\", input_dim=number_inputs))\n",
        "\n",
        "# Add the output layer that uses a probability activation function\n",
        "new_model.add(tf.keras.layers.Dense(units=1, activation=\"sigmoid\"))"
      ],
      "execution_count": 51,
      "outputs": []
    },
    {
      "cell_type": "code",
      "metadata": {
        "colab": {
          "base_uri": "https://localhost:8080/"
        },
        "id": "TBORBhnm25Ly",
        "outputId": "c92bb544-8089-4721-c164-5aa7990505df"
      },
      "source": [
        "# Compile the Sequential model together and customize metrics\n",
        "new_model.compile(loss=\"binary_crossentropy\", optimizer=\"adam\", metrics=[\"accuracy\"])\n",
        "\n",
        "# Fit the model to the training data\n",
        "new_fit_model = new_model.fit(X_moon_train_scaled, y_moon_train, epochs=100, shuffle=True)"
      ],
      "execution_count": 53,
      "outputs": [
        {
          "output_type": "stream",
          "text": [
            "Epoch 1/100\n",
            "24/24 [==============================] - 0s 1ms/step - loss: 0.2349 - accuracy: 0.9026\n",
            "Epoch 2/100\n",
            "24/24 [==============================] - 0s 1ms/step - loss: 0.2279 - accuracy: 0.8970\n",
            "Epoch 3/100\n",
            "24/24 [==============================] - 0s 1ms/step - loss: 0.2278 - accuracy: 0.9014\n",
            "Epoch 4/100\n",
            "24/24 [==============================] - 0s 2ms/step - loss: 0.2139 - accuracy: 0.9052\n",
            "Epoch 5/100\n",
            "24/24 [==============================] - 0s 1ms/step - loss: 0.2429 - accuracy: 0.8893\n",
            "Epoch 6/100\n",
            "24/24 [==============================] - 0s 1ms/step - loss: 0.1835 - accuracy: 0.9219\n",
            "Epoch 7/100\n",
            "24/24 [==============================] - 0s 1ms/step - loss: 0.2246 - accuracy: 0.9008\n",
            "Epoch 8/100\n",
            "24/24 [==============================] - 0s 1ms/step - loss: 0.2537 - accuracy: 0.8870\n",
            "Epoch 9/100\n",
            "24/24 [==============================] - 0s 1ms/step - loss: 0.2241 - accuracy: 0.8856\n",
            "Epoch 10/100\n",
            "24/24 [==============================] - 0s 2ms/step - loss: 0.2120 - accuracy: 0.9077\n",
            "Epoch 11/100\n",
            "24/24 [==============================] - 0s 1ms/step - loss: 0.2109 - accuracy: 0.8990\n",
            "Epoch 12/100\n",
            "24/24 [==============================] - 0s 1ms/step - loss: 0.2172 - accuracy: 0.9005\n",
            "Epoch 13/100\n",
            "24/24 [==============================] - 0s 1ms/step - loss: 0.2284 - accuracy: 0.8976\n",
            "Epoch 14/100\n",
            "24/24 [==============================] - 0s 1ms/step - loss: 0.2021 - accuracy: 0.9083\n",
            "Epoch 15/100\n",
            "24/24 [==============================] - 0s 1ms/step - loss: 0.2026 - accuracy: 0.9106\n",
            "Epoch 16/100\n",
            "24/24 [==============================] - 0s 1ms/step - loss: 0.2037 - accuracy: 0.9070\n",
            "Epoch 17/100\n",
            "24/24 [==============================] - 0s 1ms/step - loss: 0.2284 - accuracy: 0.8986\n",
            "Epoch 18/100\n",
            "24/24 [==============================] - 0s 1ms/step - loss: 0.1916 - accuracy: 0.9195\n",
            "Epoch 19/100\n",
            "24/24 [==============================] - 0s 1ms/step - loss: 0.2094 - accuracy: 0.9058\n",
            "Epoch 20/100\n",
            "24/24 [==============================] - 0s 2ms/step - loss: 0.2085 - accuracy: 0.9129\n",
            "Epoch 21/100\n",
            "24/24 [==============================] - 0s 1ms/step - loss: 0.2000 - accuracy: 0.9074\n",
            "Epoch 22/100\n",
            "24/24 [==============================] - 0s 1ms/step - loss: 0.2235 - accuracy: 0.8978\n",
            "Epoch 23/100\n",
            "24/24 [==============================] - 0s 1ms/step - loss: 0.2095 - accuracy: 0.8992\n",
            "Epoch 24/100\n",
            "24/24 [==============================] - 0s 1ms/step - loss: 0.2121 - accuracy: 0.9069\n",
            "Epoch 25/100\n",
            "24/24 [==============================] - 0s 1ms/step - loss: 0.2012 - accuracy: 0.9043\n",
            "Epoch 26/100\n",
            "24/24 [==============================] - 0s 1ms/step - loss: 0.2117 - accuracy: 0.8931\n",
            "Epoch 27/100\n",
            "24/24 [==============================] - 0s 1ms/step - loss: 0.1995 - accuracy: 0.9051\n",
            "Epoch 28/100\n",
            "24/24 [==============================] - 0s 1ms/step - loss: 0.1780 - accuracy: 0.9247\n",
            "Epoch 29/100\n",
            "24/24 [==============================] - 0s 1ms/step - loss: 0.2045 - accuracy: 0.9013\n",
            "Epoch 30/100\n",
            "24/24 [==============================] - 0s 1ms/step - loss: 0.1862 - accuracy: 0.9216\n",
            "Epoch 31/100\n",
            "24/24 [==============================] - 0s 1ms/step - loss: 0.1675 - accuracy: 0.9346\n",
            "Epoch 32/100\n",
            "24/24 [==============================] - 0s 2ms/step - loss: 0.2012 - accuracy: 0.9133\n",
            "Epoch 33/100\n",
            "24/24 [==============================] - 0s 1ms/step - loss: 0.2249 - accuracy: 0.8956\n",
            "Epoch 34/100\n",
            "24/24 [==============================] - 0s 1ms/step - loss: 0.1886 - accuracy: 0.9190\n",
            "Epoch 35/100\n",
            "24/24 [==============================] - 0s 1ms/step - loss: 0.2097 - accuracy: 0.8990\n",
            "Epoch 36/100\n",
            "24/24 [==============================] - 0s 1ms/step - loss: 0.1883 - accuracy: 0.9245\n",
            "Epoch 37/100\n",
            "24/24 [==============================] - 0s 1ms/step - loss: 0.1785 - accuracy: 0.9247\n",
            "Epoch 38/100\n",
            "24/24 [==============================] - 0s 1ms/step - loss: 0.1720 - accuracy: 0.9241\n",
            "Epoch 39/100\n",
            "24/24 [==============================] - 0s 1ms/step - loss: 0.1828 - accuracy: 0.9190\n",
            "Epoch 40/100\n",
            "24/24 [==============================] - 0s 1ms/step - loss: 0.1830 - accuracy: 0.9160\n",
            "Epoch 41/100\n",
            "24/24 [==============================] - 0s 1ms/step - loss: 0.1836 - accuracy: 0.9168\n",
            "Epoch 42/100\n",
            "24/24 [==============================] - 0s 1ms/step - loss: 0.1920 - accuracy: 0.9021\n",
            "Epoch 43/100\n",
            "24/24 [==============================] - 0s 1ms/step - loss: 0.1849 - accuracy: 0.9124\n",
            "Epoch 44/100\n",
            "24/24 [==============================] - 0s 1ms/step - loss: 0.1849 - accuracy: 0.9096\n",
            "Epoch 45/100\n",
            "24/24 [==============================] - 0s 1ms/step - loss: 0.1668 - accuracy: 0.9348\n",
            "Epoch 46/100\n",
            "24/24 [==============================] - 0s 1ms/step - loss: 0.1614 - accuracy: 0.9304\n",
            "Epoch 47/100\n",
            "24/24 [==============================] - 0s 2ms/step - loss: 0.1683 - accuracy: 0.9311\n",
            "Epoch 48/100\n",
            "24/24 [==============================] - 0s 1ms/step - loss: 0.1668 - accuracy: 0.9315\n",
            "Epoch 49/100\n",
            "24/24 [==============================] - 0s 1ms/step - loss: 0.1926 - accuracy: 0.9148\n",
            "Epoch 50/100\n",
            "24/24 [==============================] - 0s 1ms/step - loss: 0.1633 - accuracy: 0.9292\n",
            "Epoch 51/100\n",
            "24/24 [==============================] - 0s 1ms/step - loss: 0.1854 - accuracy: 0.9265\n",
            "Epoch 52/100\n",
            "24/24 [==============================] - 0s 1ms/step - loss: 0.1878 - accuracy: 0.9127\n",
            "Epoch 53/100\n",
            "24/24 [==============================] - 0s 1ms/step - loss: 0.1790 - accuracy: 0.9136\n",
            "Epoch 54/100\n",
            "24/24 [==============================] - 0s 1ms/step - loss: 0.1758 - accuracy: 0.9212\n",
            "Epoch 55/100\n",
            "24/24 [==============================] - 0s 1ms/step - loss: 0.1611 - accuracy: 0.9305\n",
            "Epoch 56/100\n",
            "24/24 [==============================] - 0s 1ms/step - loss: 0.1760 - accuracy: 0.9243\n",
            "Epoch 57/100\n",
            "24/24 [==============================] - 0s 1ms/step - loss: 0.1575 - accuracy: 0.9290\n",
            "Epoch 58/100\n",
            "24/24 [==============================] - 0s 1ms/step - loss: 0.1676 - accuracy: 0.9273\n",
            "Epoch 59/100\n",
            "24/24 [==============================] - 0s 1ms/step - loss: 0.1550 - accuracy: 0.9340\n",
            "Epoch 60/100\n",
            "24/24 [==============================] - 0s 1ms/step - loss: 0.1488 - accuracy: 0.9373\n",
            "Epoch 61/100\n",
            "24/24 [==============================] - 0s 1ms/step - loss: 0.1647 - accuracy: 0.9217\n",
            "Epoch 62/100\n",
            "24/24 [==============================] - 0s 1ms/step - loss: 0.1575 - accuracy: 0.9326\n",
            "Epoch 63/100\n",
            "24/24 [==============================] - 0s 1ms/step - loss: 0.1607 - accuracy: 0.9260\n",
            "Epoch 64/100\n",
            "24/24 [==============================] - 0s 1ms/step - loss: 0.1626 - accuracy: 0.9252\n",
            "Epoch 65/100\n",
            "24/24 [==============================] - 0s 1ms/step - loss: 0.1411 - accuracy: 0.9458\n",
            "Epoch 66/100\n",
            "24/24 [==============================] - 0s 1ms/step - loss: 0.1483 - accuracy: 0.9398\n",
            "Epoch 67/100\n",
            "24/24 [==============================] - 0s 1ms/step - loss: 0.1554 - accuracy: 0.9400\n",
            "Epoch 68/100\n",
            "24/24 [==============================] - 0s 1ms/step - loss: 0.1517 - accuracy: 0.9281\n",
            "Epoch 69/100\n",
            "24/24 [==============================] - 0s 2ms/step - loss: 0.1437 - accuracy: 0.9406\n",
            "Epoch 70/100\n",
            "24/24 [==============================] - 0s 1ms/step - loss: 0.1441 - accuracy: 0.9419\n",
            "Epoch 71/100\n",
            "24/24 [==============================] - 0s 1ms/step - loss: 0.1328 - accuracy: 0.9464\n",
            "Epoch 72/100\n",
            "24/24 [==============================] - 0s 1ms/step - loss: 0.1421 - accuracy: 0.9379\n",
            "Epoch 73/100\n",
            "24/24 [==============================] - 0s 2ms/step - loss: 0.1439 - accuracy: 0.9443\n",
            "Epoch 74/100\n",
            "24/24 [==============================] - 0s 1ms/step - loss: 0.1320 - accuracy: 0.9443\n",
            "Epoch 75/100\n",
            "24/24 [==============================] - 0s 1ms/step - loss: 0.1368 - accuracy: 0.9388\n",
            "Epoch 76/100\n",
            "24/24 [==============================] - 0s 1ms/step - loss: 0.1390 - accuracy: 0.9381\n",
            "Epoch 77/100\n",
            "24/24 [==============================] - 0s 1ms/step - loss: 0.1399 - accuracy: 0.9354\n",
            "Epoch 78/100\n",
            "24/24 [==============================] - 0s 1ms/step - loss: 0.1527 - accuracy: 0.9303\n",
            "Epoch 79/100\n",
            "24/24 [==============================] - 0s 1ms/step - loss: 0.1358 - accuracy: 0.9382\n",
            "Epoch 80/100\n",
            "24/24 [==============================] - 0s 1ms/step - loss: 0.1391 - accuracy: 0.9391\n",
            "Epoch 81/100\n",
            "24/24 [==============================] - 0s 1ms/step - loss: 0.1336 - accuracy: 0.9436\n",
            "Epoch 82/100\n",
            "24/24 [==============================] - 0s 1ms/step - loss: 0.1405 - accuracy: 0.9370\n",
            "Epoch 83/100\n",
            "24/24 [==============================] - 0s 1ms/step - loss: 0.1355 - accuracy: 0.9436\n",
            "Epoch 84/100\n",
            "24/24 [==============================] - 0s 1ms/step - loss: 0.1342 - accuracy: 0.9458\n",
            "Epoch 85/100\n",
            "24/24 [==============================] - 0s 1ms/step - loss: 0.1205 - accuracy: 0.9541\n",
            "Epoch 86/100\n",
            "24/24 [==============================] - 0s 1ms/step - loss: 0.1082 - accuracy: 0.9615\n",
            "Epoch 87/100\n",
            "24/24 [==============================] - 0s 2ms/step - loss: 0.1370 - accuracy: 0.9336\n",
            "Epoch 88/100\n",
            "24/24 [==============================] - 0s 1ms/step - loss: 0.1391 - accuracy: 0.9342\n",
            "Epoch 89/100\n",
            "24/24 [==============================] - 0s 1ms/step - loss: 0.1098 - accuracy: 0.9571\n",
            "Epoch 90/100\n",
            "24/24 [==============================] - 0s 1ms/step - loss: 0.1302 - accuracy: 0.9412\n",
            "Epoch 91/100\n",
            "24/24 [==============================] - 0s 2ms/step - loss: 0.1266 - accuracy: 0.9416\n",
            "Epoch 92/100\n",
            "24/24 [==============================] - 0s 1ms/step - loss: 0.1390 - accuracy: 0.9329\n",
            "Epoch 93/100\n",
            "24/24 [==============================] - 0s 1ms/step - loss: 0.1188 - accuracy: 0.9482\n",
            "Epoch 94/100\n",
            "24/24 [==============================] - 0s 2ms/step - loss: 0.1137 - accuracy: 0.9516\n",
            "Epoch 95/100\n",
            "24/24 [==============================] - 0s 1ms/step - loss: 0.1083 - accuracy: 0.9673\n",
            "Epoch 96/100\n",
            "24/24 [==============================] - 0s 1ms/step - loss: 0.1040 - accuracy: 0.9600\n",
            "Epoch 97/100\n",
            "24/24 [==============================] - 0s 1ms/step - loss: 0.1197 - accuracy: 0.9434\n",
            "Epoch 98/100\n",
            "24/24 [==============================] - 0s 1ms/step - loss: 0.1051 - accuracy: 0.9609\n",
            "Epoch 99/100\n",
            "24/24 [==============================] - 0s 2ms/step - loss: 0.1175 - accuracy: 0.9429\n",
            "Epoch 100/100\n",
            "24/24 [==============================] - 0s 1ms/step - loss: 0.1168 - accuracy: 0.9464\n"
          ],
          "name": "stdout"
        }
      ]
    },
    {
      "cell_type": "code",
      "metadata": {
        "id": "jA4xmxtE25Tb"
      },
      "source": [
        ""
      ],
      "execution_count": null,
      "outputs": []
    },
    {
      "cell_type": "code",
      "metadata": {
        "id": "KjiELkAj25Zc"
      },
      "source": [
        ""
      ],
      "execution_count": null,
      "outputs": []
    }
  ]
}